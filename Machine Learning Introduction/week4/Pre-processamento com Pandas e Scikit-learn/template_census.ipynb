{
 "metadata": {
  "language_info": {
   "codemirror_mode": {
    "name": "ipython",
    "version": 3
   },
   "file_extension": ".py",
   "mimetype": "text/x-python",
   "name": "python",
   "nbconvert_exporter": "python",
   "pygments_lexer": "ipython3",
   "version": "3.8.2-final"
  },
  "orig_nbformat": 2,
  "kernelspec": {
   "name": "python38264bit400760a99d7e4fe990b398f22caee93b",
   "display_name": "Python 3.8.2 64-bit"
  }
 },
 "nbformat": 4,
 "nbformat_minor": 2,
 "cells": [
  {
   "cell_type": "code",
   "execution_count": 35,
   "metadata": {},
   "outputs": [],
   "source": [
    "import pandas as pd"
   ]
  },
  {
   "cell_type": "code",
   "execution_count": 36,
   "metadata": {},
   "outputs": [],
   "source": [
    "base = pd.read_csv('census.csv')"
   ]
  },
  {
   "cell_type": "code",
   "execution_count": 37,
   "metadata": {},
   "outputs": [
    {
     "output_type": "execute_result",
     "data": {
      "text/plain": "   age          workclass  final-weight   education  education-num  \\\n0   39          State-gov         77516   Bachelors             13   \n1   50   Self-emp-not-inc         83311   Bachelors             13   \n2   38            Private        215646     HS-grad              9   \n3   53            Private        234721        11th              7   \n4   28            Private        338409   Bachelors             13   \n\n        marital-status          occupation    relationship    race      sex  \\\n0        Never-married        Adm-clerical   Not-in-family   White     Male   \n1   Married-civ-spouse     Exec-managerial         Husband   White     Male   \n2             Divorced   Handlers-cleaners   Not-in-family   White     Male   \n3   Married-civ-spouse   Handlers-cleaners         Husband   Black     Male   \n4   Married-civ-spouse      Prof-specialty            Wife   Black   Female   \n\n   capital-gain  capital-loos  hour-per-week  native-country  income  \n0          2174             0             40   United-States   <=50K  \n1             0             0             13   United-States   <=50K  \n2             0             0             40   United-States   <=50K  \n3             0             0             40   United-States   <=50K  \n4             0             0             40            Cuba   <=50K  ",
      "text/html": "<div>\n<style scoped>\n    .dataframe tbody tr th:only-of-type {\n        vertical-align: middle;\n    }\n\n    .dataframe tbody tr th {\n        vertical-align: top;\n    }\n\n    .dataframe thead th {\n        text-align: right;\n    }\n</style>\n<table border=\"1\" class=\"dataframe\">\n  <thead>\n    <tr style=\"text-align: right;\">\n      <th></th>\n      <th>age</th>\n      <th>workclass</th>\n      <th>final-weight</th>\n      <th>education</th>\n      <th>education-num</th>\n      <th>marital-status</th>\n      <th>occupation</th>\n      <th>relationship</th>\n      <th>race</th>\n      <th>sex</th>\n      <th>capital-gain</th>\n      <th>capital-loos</th>\n      <th>hour-per-week</th>\n      <th>native-country</th>\n      <th>income</th>\n    </tr>\n  </thead>\n  <tbody>\n    <tr>\n      <th>0</th>\n      <td>39</td>\n      <td>State-gov</td>\n      <td>77516</td>\n      <td>Bachelors</td>\n      <td>13</td>\n      <td>Never-married</td>\n      <td>Adm-clerical</td>\n      <td>Not-in-family</td>\n      <td>White</td>\n      <td>Male</td>\n      <td>2174</td>\n      <td>0</td>\n      <td>40</td>\n      <td>United-States</td>\n      <td>&lt;=50K</td>\n    </tr>\n    <tr>\n      <th>1</th>\n      <td>50</td>\n      <td>Self-emp-not-inc</td>\n      <td>83311</td>\n      <td>Bachelors</td>\n      <td>13</td>\n      <td>Married-civ-spouse</td>\n      <td>Exec-managerial</td>\n      <td>Husband</td>\n      <td>White</td>\n      <td>Male</td>\n      <td>0</td>\n      <td>0</td>\n      <td>13</td>\n      <td>United-States</td>\n      <td>&lt;=50K</td>\n    </tr>\n    <tr>\n      <th>2</th>\n      <td>38</td>\n      <td>Private</td>\n      <td>215646</td>\n      <td>HS-grad</td>\n      <td>9</td>\n      <td>Divorced</td>\n      <td>Handlers-cleaners</td>\n      <td>Not-in-family</td>\n      <td>White</td>\n      <td>Male</td>\n      <td>0</td>\n      <td>0</td>\n      <td>40</td>\n      <td>United-States</td>\n      <td>&lt;=50K</td>\n    </tr>\n    <tr>\n      <th>3</th>\n      <td>53</td>\n      <td>Private</td>\n      <td>234721</td>\n      <td>11th</td>\n      <td>7</td>\n      <td>Married-civ-spouse</td>\n      <td>Handlers-cleaners</td>\n      <td>Husband</td>\n      <td>Black</td>\n      <td>Male</td>\n      <td>0</td>\n      <td>0</td>\n      <td>40</td>\n      <td>United-States</td>\n      <td>&lt;=50K</td>\n    </tr>\n    <tr>\n      <th>4</th>\n      <td>28</td>\n      <td>Private</td>\n      <td>338409</td>\n      <td>Bachelors</td>\n      <td>13</td>\n      <td>Married-civ-spouse</td>\n      <td>Prof-specialty</td>\n      <td>Wife</td>\n      <td>Black</td>\n      <td>Female</td>\n      <td>0</td>\n      <td>0</td>\n      <td>40</td>\n      <td>Cuba</td>\n      <td>&lt;=50K</td>\n    </tr>\n  </tbody>\n</table>\n</div>"
     },
     "metadata": {},
     "execution_count": 37
    }
   ],
   "source": [
    "base.head()"
   ]
  },
  {
   "cell_type": "code",
   "execution_count": 38,
   "metadata": {},
   "outputs": [
    {
     "output_type": "execute_result",
     "data": {
      "text/plain": "'Transformando variáveis categóricas (strings) em variáveis numéricas'"
     },
     "metadata": {},
     "execution_count": 38
    }
   ],
   "source": [
    "\"Transformando variáveis categóricas (strings) em variáveis numéricas\""
   ]
  },
  {
   "cell_type": "code",
   "execution_count": 39,
   "metadata": {},
   "outputs": [],
   "source": [
    "previsores = base.iloc[:, 0:14].values"
   ]
  },
  {
   "cell_type": "code",
   "execution_count": 40,
   "metadata": {},
   "outputs": [
    {
     "output_type": "execute_result",
     "data": {
      "text/plain": "array([[39, ' State-gov', 77516, ..., 0, 40, ' United-States'],\n       [50, ' Self-emp-not-inc', 83311, ..., 0, 13, ' United-States'],\n       [38, ' Private', 215646, ..., 0, 40, ' United-States'],\n       ...,\n       [58, ' Private', 151910, ..., 0, 40, ' United-States'],\n       [22, ' Private', 201490, ..., 0, 20, ' United-States'],\n       [52, ' Self-emp-inc', 287927, ..., 0, 40, ' United-States']],\n      dtype=object)"
     },
     "metadata": {},
     "execution_count": 40
    }
   ],
   "source": [
    "previsores"
   ]
  },
  {
   "cell_type": "code",
   "execution_count": 41,
   "metadata": {},
   "outputs": [],
   "source": [
    "classe = base.iloc[:, 14].values"
   ]
  },
  {
   "cell_type": "code",
   "execution_count": 42,
   "metadata": {},
   "outputs": [
    {
     "output_type": "execute_result",
     "data": {
      "text/plain": "array([' <=50K', ' <=50K', ' <=50K', ..., ' <=50K', ' <=50K', ' >50K'],\n      dtype=object)"
     },
     "metadata": {},
     "execution_count": 42
    }
   ],
   "source": [
    "classe"
   ]
  },
  {
   "cell_type": "code",
   "execution_count": 43,
   "metadata": {},
   "outputs": [],
   "source": [
    "from sklearn.preprocessing import LabelEncoder"
   ]
  },
  {
   "cell_type": "code",
   "execution_count": 44,
   "metadata": {},
   "outputs": [],
   "source": [
    "labelenconder_previsores = LabelEncoder()"
   ]
  },
  {
   "cell_type": "code",
   "execution_count": 45,
   "metadata": {},
   "outputs": [],
   "source": [
    "#labels = labelenconder_previsores.fit_transform(previsores[:, 1]) # vai fazer a substituição por valores numéricos"
   ]
  },
  {
   "cell_type": "code",
   "execution_count": 46,
   "metadata": {},
   "outputs": [
    {
     "output_type": "execute_result",
     "data": {
      "text/plain": "'\\n[Race]                  [White][Black][Asian-P-Isl][Amer-P-Ski]\\n|White| 0                   1     0         0            0\\n|Black| 1                   0     1         0            0\\n|Asian-P-Isl| 2   ===>      0     0         1            0 \\n|Amer-P-Ski| 3              0     0         0            1\\n|Black| 1                   0     1         0            0\\n|Black| 1                   0     1         0            0 \\n    '"
     },
     "metadata": {},
     "execution_count": 46
    }
   ],
   "source": [
    "\"Criando variáveis do tipo 'Dummy'\"\n",
    "\n",
    "'''\n",
    "[Race]                  [White][Black][Asian-P-Isl][Amer-P-Ski]\n",
    "|White| 0                   1     0         0            0\n",
    "|Black| 1                   0     1         0            0\n",
    "|Asian-P-Isl| 2   ===>      0     0         1            0 \n",
    "|Amer-P-Ski| 3              0     0         0            1\n",
    "|Black| 1                   0     1         0            0\n",
    "|Black| 1                   0     1         0            0 \n",
    "    ''' "
   ]
  },
  {
   "cell_type": "code",
   "execution_count": 47,
   "metadata": {},
   "outputs": [],
   "source": [
    "from sklearn.preprocessing import OneHotEncoder\n",
    "from sklearn.compose import ColumnTransformer"
   ]
  },
  {
   "cell_type": "code",
   "execution_count": 48,
   "metadata": {},
   "outputs": [],
   "source": [
    "onehotencoder = ColumnTransformer(transformers=[(\"OneHot\", OneHotEncoder(), [1,3,5,6,7,8,9,13])],remainder='passthrough')"
   ]
  },
  {
   "cell_type": "code",
   "execution_count": 49,
   "metadata": {},
   "outputs": [],
   "source": [
    "previsores = onehotencoder.fit_transform(previsores).toarray()"
   ]
  },
  {
   "cell_type": "code",
   "execution_count": 50,
   "metadata": {},
   "outputs": [
    {
     "output_type": "execute_result",
     "data": {
      "text/plain": "array([[0.0000e+00, 0.0000e+00, 0.0000e+00, ..., 2.1740e+03, 0.0000e+00,\n        4.0000e+01],\n       [0.0000e+00, 0.0000e+00, 0.0000e+00, ..., 0.0000e+00, 0.0000e+00,\n        1.3000e+01],\n       [0.0000e+00, 0.0000e+00, 0.0000e+00, ..., 0.0000e+00, 0.0000e+00,\n        4.0000e+01],\n       ...,\n       [0.0000e+00, 0.0000e+00, 0.0000e+00, ..., 0.0000e+00, 0.0000e+00,\n        4.0000e+01],\n       [0.0000e+00, 0.0000e+00, 0.0000e+00, ..., 0.0000e+00, 0.0000e+00,\n        2.0000e+01],\n       [0.0000e+00, 0.0000e+00, 0.0000e+00, ..., 1.5024e+04, 0.0000e+00,\n        4.0000e+01]])"
     },
     "metadata": {},
     "execution_count": 50
    }
   ],
   "source": [
    "previsores"
   ]
  },
  {
   "cell_type": "code",
   "execution_count": 51,
   "metadata": {},
   "outputs": [],
   "source": [
    "labelencorder_classe = LabelEncoder()\n",
    "classe = labelencorder_classe.fit_transform(classe)"
   ]
  },
  {
   "cell_type": "code",
   "execution_count": 52,
   "metadata": {},
   "outputs": [
    {
     "output_type": "execute_result",
     "data": {
      "text/plain": "1"
     },
     "metadata": {},
     "execution_count": 52
    }
   ],
   "source": [
    "classe.max()"
   ]
  },
  {
   "cell_type": "code",
   "execution_count": 53,
   "metadata": {},
   "outputs": [
    {
     "output_type": "execute_result",
     "data": {
      "text/plain": "0"
     },
     "metadata": {},
     "execution_count": 53
    }
   ],
   "source": [
    "classe.min()"
   ]
  },
  {
   "cell_type": "code",
   "execution_count": 54,
   "metadata": {},
   "outputs": [
    {
     "output_type": "execute_result",
     "data": {
      "text/plain": "array([0, 0, 0, ..., 0, 0, 1])"
     },
     "metadata": {},
     "execution_count": 54
    }
   ],
   "source": [
    "classe # só possui 0 ou 1"
   ]
  },
  {
   "cell_type": "code",
   "execution_count": 55,
   "metadata": {},
   "outputs": [],
   "source": [
    "from sklearn.preprocessing import StandardScaler\n",
    "scaler = StandardScaler()\n",
    "previsores = scaler.fit_transform(previsores)"
   ]
  },
  {
   "cell_type": "code",
   "execution_count": 56,
   "metadata": {},
   "outputs": [
    {
     "output_type": "execute_result",
     "data": {
      "text/plain": "array([[-0.2444502 , -0.17429511, -0.26209736, ...,  0.1484529 ,\n        -0.21665953, -0.03542945],\n       [-0.2444502 , -0.17429511, -0.26209736, ..., -0.14592048,\n        -0.21665953, -2.22215312],\n       [-0.2444502 , -0.17429511, -0.26209736, ..., -0.14592048,\n        -0.21665953, -0.03542945],\n       ...,\n       [-0.2444502 , -0.17429511, -0.26209736, ..., -0.14592048,\n        -0.21665953, -0.03542945],\n       [-0.2444502 , -0.17429511, -0.26209736, ..., -0.14592048,\n        -0.21665953, -1.65522476],\n       [-0.2444502 , -0.17429511, -0.26209736, ...,  1.88842434,\n        -0.21665953, -0.03542945]])"
     },
     "metadata": {},
     "execution_count": 56
    }
   ],
   "source": [
    "previsores"
   ]
  },
  {
   "cell_type": "code",
   "execution_count": 57,
   "metadata": {},
   "outputs": [],
   "source": [
    "from sklearn.model_selection import train_test_split"
   ]
  },
  {
   "cell_type": "code",
   "execution_count": 58,
   "metadata": {},
   "outputs": [],
   "source": [
    "previsores_treinamento, previsores_teste, classe_treinamento, classe_teste = train_test_split(previsores, classe, test_size=0.15, random_state=0)"
   ]
  },
  {
   "cell_type": "code",
   "execution_count": 59,
   "metadata": {},
   "outputs": [
    {
     "output_type": "execute_result",
     "data": {
      "text/plain": "array([[-0.2444502 , -0.17429511, -0.26209736, ..., -0.14592048,\n        -0.21665953, -0.03542945],\n       [-0.2444502 , -0.17429511, -0.26209736, ..., -0.14592048,\n        -0.21665953,  3.20416118],\n       [-0.2444502 , -0.17429511,  3.81537614, ..., -0.14592048,\n        -0.21665953, -0.03542945],\n       ...,\n       [-0.2444502 , -0.17429511, -0.26209736, ..., -0.14592048,\n        -0.21665953, -0.03542945],\n       [-0.2444502 , -0.17429511,  3.81537614, ...,  0.89508344,\n        -0.21665953,  0.36951938],\n       [-0.2444502 , -0.17429511, -0.26209736, ...,  0.20572978,\n        -0.21665953,  0.61248868]])"
     },
     "metadata": {},
     "execution_count": 59
    }
   ],
   "source": [
    "previsores_treinamento"
   ]
  },
  {
   "cell_type": "code",
   "execution_count": 60,
   "metadata": {},
   "outputs": [
    {
     "output_type": "execute_result",
     "data": {
      "text/plain": "array([[-0.2444502 , -0.17429511, -0.26209736, ..., -0.14592048,\n        -0.21665953,  0.28852962],\n       [-0.2444502 , -0.17429511, -0.26209736, ..., -0.14592048,\n        -0.21665953, -0.03542945],\n       [-0.2444502 , -0.17429511, -0.26209736, ..., -0.14592048,\n        -0.21665953, -0.03542945],\n       ...,\n       [-0.2444502 , -0.17429511, -0.26209736, ..., -0.14592048,\n        -0.21665953, -1.97918382],\n       [-0.2444502 , -0.17429511, -0.26209736, ..., -0.14592048,\n        -0.21665953, -0.03542945],\n       [-0.2444502 , -0.17429511, -0.26209736, ..., -0.14592048,\n        -0.21665953, -0.03542945]])"
     },
     "metadata": {},
     "execution_count": 60
    }
   ],
   "source": [
    "previsores_teste"
   ]
  },
  {
   "cell_type": "code",
   "execution_count": 61,
   "metadata": {},
   "outputs": [
    {
     "output_type": "execute_result",
     "data": {
      "text/plain": "array([0, 0, 0, ..., 0, 1, 0])"
     },
     "metadata": {},
     "execution_count": 61
    }
   ],
   "source": [
    "classe_treinamento"
   ]
  },
  {
   "cell_type": "code",
   "execution_count": 62,
   "metadata": {},
   "outputs": [
    {
     "output_type": "execute_result",
     "data": {
      "text/plain": "array([0, 0, 0, ..., 0, 0, 0])"
     },
     "metadata": {},
     "execution_count": 62
    }
   ],
   "source": [
    "classe_teste"
   ]
  },
  {
   "cell_type": "code",
   "execution_count": 73,
   "metadata": {},
   "outputs": [
    {
     "output_type": "execute_result",
     "data": {
      "text/plain": "4885"
     },
     "metadata": {},
     "execution_count": 73
    }
   ],
   "source": [
    "len(classe_teste)"
   ]
  },
  {
   "cell_type": "code",
   "execution_count": 75,
   "metadata": {},
   "outputs": [
    {
     "output_type": "execute_result",
     "data": {
      "text/plain": "array([0, 0, 0, 0, 1, 0, 0, 0, 1, 0, 0, 0, 1, 0, 0, 1, 0, 0, 0, 0, 0, 1,\n       1, 0, 0, 1, 0, 0, 0, 0, 0, 0, 0, 0, 1, 0, 1, 0, 0, 1, 1, 1, 1, 0,\n       0, 0, 0, 0, 0, 0, 0, 0, 1, 0, 0, 0, 0, 0, 0, 0, 0, 0, 0, 0, 0, 0,\n       1, 0, 1, 0, 0, 0, 1, 0, 0, 0, 1, 0, 0, 1, 1, 0, 1, 0, 1, 0, 1, 0,\n       1, 0, 0, 1, 0, 0, 0, 0, 0, 0, 1, 0])"
     },
     "metadata": {},
     "execution_count": 75
    }
   ],
   "source": [
    "classe_teste[0:100]"
   ]
  },
  {
   "cell_type": "code",
   "execution_count": null,
   "metadata": {},
   "outputs": [],
   "source": []
  }
 ]
}