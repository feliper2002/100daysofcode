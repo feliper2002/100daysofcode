{
 "metadata": {
  "language_info": {
   "codemirror_mode": {
    "name": "ipython",
    "version": 3
   },
   "file_extension": ".py",
   "mimetype": "text/x-python",
   "name": "python",
   "nbconvert_exporter": "python",
   "pygments_lexer": "ipython3",
   "version": "3.8.2-final"
  },
  "orig_nbformat": 2,
  "kernelspec": {
   "name": "python38264bit400760a99d7e4fe990b398f22caee93b",
   "display_name": "Python 3.8.2 64-bit"
  }
 },
 "nbformat": 4,
 "nbformat_minor": 2,
 "cells": [
  {
   "cell_type": "code",
   "execution_count": 1,
   "metadata": {},
   "outputs": [],
   "source": [
    "import numpy as np\n",
    "import pandas as pd"
   ]
  },
  {
   "cell_type": "code",
   "execution_count": 8,
   "metadata": {},
   "outputs": [],
   "source": [
    "base = pd.read_csv('svbr.csv', delimiter=';')"
   ]
  },
  {
   "cell_type": "code",
   "execution_count": 9,
   "metadata": {},
   "outputs": [
    {
     "output_type": "execute_result",
     "data": {
      "text/plain": "                      Canal  Inscritos  Visualizações\n0  Site Arqueologia Egípcia    13438.0       406590.0\n1               Terra Negra    35241.0       868235.0\n2               Frank Jaava    31680.0      2856508.0\n3            Dispersciência    25100.0       150000.0\n4               Olá Ciência    32788.0      1575456.0",
      "text/html": "<div>\n<style scoped>\n    .dataframe tbody tr th:only-of-type {\n        vertical-align: middle;\n    }\n\n    .dataframe tbody tr th {\n        vertical-align: top;\n    }\n\n    .dataframe thead th {\n        text-align: right;\n    }\n</style>\n<table border=\"1\" class=\"dataframe\">\n  <thead>\n    <tr style=\"text-align: right;\">\n      <th></th>\n      <th>Canal</th>\n      <th>Inscritos</th>\n      <th>Visualizações</th>\n    </tr>\n  </thead>\n  <tbody>\n    <tr>\n      <th>0</th>\n      <td>Site Arqueologia Egípcia</td>\n      <td>13438.0</td>\n      <td>406590.0</td>\n    </tr>\n    <tr>\n      <th>1</th>\n      <td>Terra Negra</td>\n      <td>35241.0</td>\n      <td>868235.0</td>\n    </tr>\n    <tr>\n      <th>2</th>\n      <td>Frank Jaava</td>\n      <td>31680.0</td>\n      <td>2856508.0</td>\n    </tr>\n    <tr>\n      <th>3</th>\n      <td>Dispersciência</td>\n      <td>25100.0</td>\n      <td>150000.0</td>\n    </tr>\n    <tr>\n      <th>4</th>\n      <td>Olá Ciência</td>\n      <td>32788.0</td>\n      <td>1575456.0</td>\n    </tr>\n  </tbody>\n</table>\n</div>"
     },
     "metadata": {},
     "execution_count": 9
    }
   ],
   "source": [
    "base.head()"
   ]
  },
  {
   "cell_type": "code",
   "execution_count": 10,
   "metadata": {},
   "outputs": [],
   "source": [
    "x = base.iloc[:, :].values"
   ]
  },
  {
   "cell_type": "code",
   "execution_count": 11,
   "metadata": {},
   "outputs": [
    {
     "output_type": "execute_result",
     "data": {
      "text/plain": "array([['Site Arqueologia Egípcia', 13438.0, 406590.0],\n       ['Terra Negra', 35241.0, 868235.0],\n       ['Frank Jaava', 31680.0, 2856508.0],\n       ['Dispersciência', 25100.0, 150000.0],\n       ['Olá Ciência', 32788.0, 1575456.0],\n       ['A matemaníaca por Julia Jaccoud', 65453.0, 1667892.0],\n       ['Delta T - Os super lentos', 12000.0, 171361.0],\n       ['Bláblálogia', 161951.0, 11027386.0],\n       ['Efarsas', 78876.0, 6226235.0],\n       ['Minuto da Terra', 274196.0, 30166457.0],\n       ['Canal Cura Quântica', 13148.0, 250020.0],\n       ['Mensageiro Sideral', 72425.0, 7551491.0],\n       ['Universo Racionalista', 7858.0, 43662.0],\n       ['Xadrez Verbal', 110549.0, 4151548.0],\n       ['Reinaldo José Lopes', 11188.0, 541832.0],\n       [\"Bio's Fera\", 5299.0, 44312.0],\n       ['QuerQueDesenhe', 56006.0, 1329268.0],\n       ['Prof André Azevedo da Fonseca', 45756.0, 1825724.0],\n       ['Matemática Rio com Prof Rafael Procópio', 1423056.0, 93036517.0],\n       ['Ponto em Comum', 129466.0, 5027880.0],\n       ['Canal do Slow', 137409.0, 5363423.0],\n       ['Boteco Behaviorista', 18404.0, 1427977.0],\n       ['Papo de Primata', 42063.0, 1111334.0],\n       ['Minutos Psíquicos', 648892.0, 22555134.0],\n       ['Alimente o Cérebro', 135118.0, 3375528.0],\n       ['Canal Zoa', 9118.0, 683190.0],\n       ['Papo de Biólogo', 374057.0, 12139385.0],\n       ['Eu Ciência', 88211.0, 1616496.0],\n       ['Peixe Babel', nan, nan],\n       ['SpaceToday', 321068.0, 26277335.0],\n       ['Ciência todo dia', 528761.0, 16969332.0],\n       ['Colecionadores de Ossos', 24894.0, 806815.0],\n       ['Canal do Pirula', 752573.0, 76462787.0],\n       ['Jornal Ciensacional', 6216.0, 104217.0],\n       ['iBioMovies - Canal de Biologia', 17388.0, 563535.0],\n       ['Primata Falante', 110840.0, 4540321.0],\n       ['Dragões de Garagem', 6421.0, 82599.0],\n       ['Café e Ciência', 38494.0, 916320.0],\n       ['Mimimidias', 66122.0, 2009621.0],\n       ['Schwarza - Poligonautas', 860493.0, 118741623.0],\n       ['Caio na Aula', 13661.0, 748018.0],\n       ['ComCiência Corporal', 2308.0, 16150.0],\n       ['Leitura ObrigaHISTORIA', 138132.0, 3013264.0],\n       ['Portal da Ciência', 64100.0, 2139717.0],\n       ['Universo Discreto', 2330.0, 74680.0],\n       ['Astrotubers', 4357.0, 41228.0],\n       ['O Físico Turista', 53838.0, 1004921.0]], dtype=object)"
     },
     "metadata": {},
     "execution_count": 11
    }
   ],
   "source": [
    "x"
   ]
  },
  {
   "cell_type": "code",
   "execution_count": 12,
   "metadata": {},
   "outputs": [],
   "source": [
    "from sklearn.impute import SimpleImputer"
   ]
  },
  {
   "cell_type": "code",
   "execution_count": 27,
   "metadata": {},
   "outputs": [],
   "source": [
    "imputer = SimpleImputer(missing_values=np.nan, strategy='median') # median = mediana"
   ]
  },
  {
   "cell_type": "code",
   "execution_count": 28,
   "metadata": {},
   "outputs": [],
   "source": [
    "imputer = imputer.fit(x[:, 1:3])"
   ]
  },
  {
   "cell_type": "code",
   "execution_count": 29,
   "metadata": {},
   "outputs": [],
   "source": [
    "x = imputer.transform(x[:, 1:3]).astype(str)"
   ]
  },
  {
   "cell_type": "code",
   "execution_count": 30,
   "metadata": {},
   "outputs": [],
   "source": [
    "x = np.insert(x, 0, base.iloc[:, 0].values, axis=1)"
   ]
  },
  {
   "cell_type": "code",
   "execution_count": 31,
   "metadata": {},
   "outputs": [
    {
     "output_type": "execute_result",
     "data": {
      "text/plain": "array([['Site Arqueologia Egípcia', '13438.0', '406590.0'],\n       ['Terra Negra', '35241.0', '868235.0'],\n       ['Frank Jaava', '31680.0', '2856508.0'],\n       ['Dispersciência', '25100.0', '150000.0'],\n       ['Olá Ciência', '32788.0', '1575456.0'],\n       ['A matemaníaca por Julia Jaccoud', '65453.0', '1667892.0'],\n       ['Delta T - Os super lentos', '12000.0', '171361.0'],\n       ['Bláblálogia', '161951.0', '11027386.0'],\n       ['Efarsas', '78876.0', '6226235.0'],\n       ['Minuto da Terra', '274196.0', '30166457.0'],\n       ['Canal Cura Quântica', '13148.0', '250020.0'],\n       ['Mensageiro Sideral', '72425.0', '7551491.0'],\n       ['Universo Racionalista', '7858.0', '43662.0'],\n       ['Xadrez Verbal', '110549.0', '4151548.0'],\n       ['Reinaldo José Lopes', '11188.0', '541832.0'],\n       [\"Bio's Fera\", '5299.0', '44312.0'],\n       ['QuerQueDesenhe', '56006.0', '1329268.0'],\n       ['Prof André Azevedo da Fonseca', '45756.0', '1825724.0'],\n       ['Matemática Rio com Prof Rafael P', '1423056.0', '93036517.0'],\n       ['Ponto em Comum', '129466.0', '5027880.0'],\n       ['Canal do Slow', '137409.0', '5363423.0'],\n       ['Boteco Behaviorista', '18404.0', '1427977.0'],\n       ['Papo de Primata', '42063.0', '1111334.0'],\n       ['Minutos Psíquicos', '648892.0', '22555134.0'],\n       ['Alimente o Cérebro', '135118.0', '3375528.0'],\n       ['Canal Zoa', '9118.0', '683190.0'],\n       ['Papo de Biólogo', '374057.0', '12139385.0'],\n       ['Eu Ciência', '88211.0', '1616496.0'],\n       ['Peixe Babel', '153711.78260869565', '10254420.086956521'],\n       ['SpaceToday', '321068.0', '26277335.0'],\n       ['Ciência todo dia', '528761.0', '16969332.0'],\n       ['Colecionadores de Ossos', '24894.0', '806815.0'],\n       ['Canal do Pirula', '752573.0', '76462787.0'],\n       ['Jornal Ciensacional', '6216.0', '104217.0'],\n       ['iBioMovies - Canal de Biologia', '17388.0', '563535.0'],\n       ['Primata Falante', '110840.0', '4540321.0'],\n       ['Dragões de Garagem', '6421.0', '82599.0'],\n       ['Café e Ciência', '38494.0', '916320.0'],\n       ['Mimimidias', '66122.0', '2009621.0'],\n       ['Schwarza - Poligonautas', '860493.0', '118741623.0'],\n       ['Caio na Aula', '13661.0', '748018.0'],\n       ['ComCiência Corporal', '2308.0', '16150.0'],\n       ['Leitura ObrigaHISTORIA', '138132.0', '3013264.0'],\n       ['Portal da Ciência', '64100.0', '2139717.0'],\n       ['Universo Discreto', '2330.0', '74680.0'],\n       ['Astrotubers', '4357.0', '41228.0'],\n       ['O Físico Turista', '53838.0', '1004921.0']], dtype='<U32')"
     },
     "metadata": {},
     "execution_count": 31
    }
   ],
   "source": [
    "x"
   ]
  },
  {
   "cell_type": "code",
   "execution_count": null,
   "metadata": {},
   "outputs": [],
   "source": []
  }
 ]
}